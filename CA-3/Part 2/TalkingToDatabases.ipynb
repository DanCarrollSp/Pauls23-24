{
 "cells": [
  {
   "cell_type": "code",
   "execution_count": 1,
   "metadata": {},
   "outputs": [
    {
     "name": "stdout",
     "output_type": "stream",
     "text": [
      "Requirement already satisfied: DBcm in c:\\users\\fondo\\appdata\\local\\packages\\pythonsoftwarefoundation.python.3.11_qbz5n2kfra8p0\\localcache\\local-packages\\python311\\site-packages (2.1)\n",
      "Requirement already satisfied: mysql-connector-python in c:\\users\\fondo\\appdata\\local\\packages\\pythonsoftwarefoundation.python.3.11_qbz5n2kfra8p0\\localcache\\local-packages\\python311\\site-packages (from DBcm) (8.2.0)\n",
      "Requirement already satisfied: protobuf<=4.21.12,>=4.21.1 in c:\\users\\fondo\\appdata\\local\\packages\\pythonsoftwarefoundation.python.3.11_qbz5n2kfra8p0\\localcache\\local-packages\\python311\\site-packages (from mysql-connector-python->DBcm) (4.21.12)\n",
      "Note: you may need to restart the kernel to use updated packages.\n"
     ]
    },
    {
     "name": "stderr",
     "output_type": "stream",
     "text": [
      "\n",
      "[notice] A new release of pip is available: 23.2.1 -> 23.3.1\n",
      "[notice] To update, run: C:\\Users\\fondo\\AppData\\Local\\Microsoft\\WindowsApps\\PythonSoftwareFoundation.Python.3.11_qbz5n2kfra8p0\\python.exe -m pip install --upgrade pip\n"
     ]
    }
   ],
   "source": [
    "%pip install --upgrade DBcm"
   ]
  },
  {
   "cell_type": "code",
   "execution_count": 2,
   "metadata": {},
   "outputs": [],
   "source": [
    "import DBcm"
   ]
  },
  {
   "cell_type": "code",
   "execution_count": 3,
   "metadata": {},
   "outputs": [
    {
     "name": "stdout",
     "output_type": "stream",
     "text": [
      "['ConnectionError', 'CredentialsError', 'SQLError', 'UseDatabase', '__builtins__', '__cached__', '__doc__', '__file__', '__loader__', '__name__', '__package__', '__spec__', 'mysql', 'sqlite3']\n"
     ]
    }
   ],
   "source": [
    "print(dir(DBcm))"
   ]
  },
  {
   "cell_type": "code",
   "execution_count": 4,
   "metadata": {},
   "outputs": [],
   "source": [
    "creds = {\n",
    "    \"host\": \"localhost\",\n",
    "    \"database\": \"BlackjackDB\",\n",
    "    \"user\": \"jack\",\n",
    "    \"password\": \"jackpasswd\",\n",
    "}"
   ]
  },
  {
   "cell_type": "code",
   "execution_count": 5,
   "metadata": {},
   "outputs": [
    {
     "data": {
      "text/plain": [
       "{'host': 'localhost',\n",
       " 'database': 'BlackjackDB',\n",
       " 'user': 'jack',\n",
       " 'password': 'jackpasswd'}"
      ]
     },
     "execution_count": 5,
     "metadata": {},
     "output_type": "execute_result"
    }
   ],
   "source": [
    "creds"
   ]
  },
  {
   "cell_type": "code",
   "execution_count": 6,
   "metadata": {},
   "outputs": [],
   "source": [
    "with open(\"players.sql\") as f:    # file context manager: \"f\" is a file alias.\n",
    "    data = f.readlines()\n",
    "# the file is automatically closed."
   ]
  },
  {
   "cell_type": "code",
   "execution_count": 7,
   "metadata": {},
   "outputs": [
    {
     "data": {
      "text/plain": [
       "['insert into players (realname, gamertag, email) values (\"Josh\", \"JDawg\", \"c00270917@setu.ie\");\\n',\n",
       " 'insert into players (realname, gamertag, email) values (\"Shane\", \"idk\", \"c00270031@setu.ie\");\\n',\n",
       " 'insert into players (realname, gamertag, email) values (\"Alwyn\", \"alwyn\", \"c00271145@setu.ie\");\\n',\n",
       " 'insert into players (realname, gamertag, email) values (\"Darragh\", \"FrogGranna\", \"c00271651@setu.ie\");\\n',\n",
       " 'insert into players (realname, gamertag, email) values (\"Pavol\", \"PDawg\", \"c00272003@setu.ie\");\\n',\n",
       " 'insert into players (realname, gamertag, email) values (\"Daniel\", \"frodo\", \"c00272187@setu.ie\");\\n',\n",
       " 'insert into players (realname, gamertag, email) values (\"Richie\", \"The Legend 27\", \"c00272345@setu.ie\");\\n',\n",
       " 'insert into players (realname, gamertag, email) values (\"Conor\", \"xxx_CDawg_xxx\", \"c00272506@setu.ie\");\\n',\n",
       " 'insert into players (realname, gamertag, email) values (\"Jack\", \"Xx_TTV_MadJack69_xX\", \"c00273123@setu.ie\");\\n',\n",
       " 'insert into players (realname, gamertag, email) values (\"Ruslan\", \"Ruark\", \"c00273521@setu.ie\");\\n',\n",
       " 'insert into players (realname, gamertag, email) values (\"Killian\", \"kio\", \"c00275417@setu.ie\");\\n',\n",
       " 'insert into players (realname, gamertag, email) values (\"Adrian\", \"Mia\", \"c0027xxxxx@setu.ie\");']"
      ]
     },
     "execution_count": 7,
     "metadata": {},
     "output_type": "execute_result"
    }
   ],
   "source": [
    "data"
   ]
  },
  {
   "cell_type": "code",
   "execution_count": 8,
   "metadata": {},
   "outputs": [],
   "source": [
    "with DBcm.UseDatabase(creds) as db:    # database context manager: \"db\" is a database connection.\n",
    "    SQL = \"select * from games\"\n",
    "    db.execute(SQL)  # sends the SQL command to the server to run.\n",
    "    results = db.fetchall()  # gets any results from the server.\n",
    "# automatically closed the database connection."
   ]
  },
  {
   "cell_type": "code",
   "execution_count": 9,
   "metadata": {},
   "outputs": [
    {
     "data": {
      "text/plain": [
       "[]"
      ]
     },
     "execution_count": 9,
     "metadata": {},
     "output_type": "execute_result"
    }
   ],
   "source": [
    "results"
   ]
  },
  {
   "cell_type": "code",
   "execution_count": 10,
   "metadata": {},
   "outputs": [
    {
     "data": {
      "text/plain": [
       "[('Josh', 'JDawg', 'c00270917@setu.ie'),\n",
       " ('Shane', 'idk', 'c00270031@setu.ie'),\n",
       " ('Alwyn', 'alwyn', 'c00271145@setu.ie'),\n",
       " ('Darragh', 'FrogGranna', 'c00271651@setu.ie'),\n",
       " ('Pavol', 'PDawg', 'c00272003@setu.ie'),\n",
       " ('Daniel', 'frodo', 'c00272187@setu.ie'),\n",
       " ('Richie', 'The Legend 27', 'c00272345@setu.ie'),\n",
       " ('Conor', 'xxx_CDawg_xxx', 'c00272506@setu.ie'),\n",
       " ('Jack', 'Xx_TTV_MadJack69_xX', 'c00273123@setu.ie'),\n",
       " ('Ruslan', 'Ruark', 'c00273521@setu.ie'),\n",
       " ('Killian', 'kio', 'c00275417@setu.ie'),\n",
       " ('Adrian', 'Mia', 'c0027xxxxx@setu.ie')]"
      ]
     },
     "execution_count": 10,
     "metadata": {},
     "output_type": "execute_result"
    }
   ],
   "source": [
    "with DBcm.UseDatabase(creds) as db:    \n",
    "    SQL = \"select * from players\"\n",
    "    db.execute(SQL)  \n",
    "    results = db.fetchall()  \n",
    "results"
   ]
  },
  {
   "cell_type": "code",
   "execution_count": 11,
   "metadata": {},
   "outputs": [
    {
     "data": {
      "text/plain": [
       "[('realname', 'varchar(32)', 'NO', '', None, ''),\n",
       " ('gamertag', 'varchar(32)', 'YES', '', None, ''),\n",
       " ('email', 'varchar(64)', 'NO', '', None, '')]"
      ]
     },
     "execution_count": 11,
     "metadata": {},
     "output_type": "execute_result"
    }
   ],
   "source": [
    "with DBcm.UseDatabase(creds) as db:    \n",
    "    SQL = \"describe players\"\n",
    "    db.execute(SQL)  \n",
    "    results = db.fetchall()  \n",
    "results"
   ]
  },
  {
   "cell_type": "code",
   "execution_count": 12,
   "metadata": {},
   "outputs": [
    {
     "data": {
      "text/plain": [
       "list"
      ]
     },
     "execution_count": 12,
     "metadata": {},
     "output_type": "execute_result"
    }
   ],
   "source": [
    "type(results)"
   ]
  },
  {
   "cell_type": "code",
   "execution_count": 13,
   "metadata": {},
   "outputs": [
    {
     "data": {
      "text/plain": [
       "tuple"
      ]
     },
     "execution_count": 13,
     "metadata": {},
     "output_type": "execute_result"
    }
   ],
   "source": [
    "type(results[0])"
   ]
  },
  {
   "cell_type": "code",
   "execution_count": 14,
   "metadata": {},
   "outputs": [
    {
     "data": {
      "text/plain": [
       "'realname'"
      ]
     },
     "execution_count": 14,
     "metadata": {},
     "output_type": "execute_result"
    }
   ],
   "source": [
    "results[0][0]"
   ]
  },
  {
   "cell_type": "code",
   "execution_count": 15,
   "metadata": {},
   "outputs": [
    {
     "data": {
      "text/plain": [
       "[(0,)]"
      ]
     },
     "execution_count": 15,
     "metadata": {},
     "output_type": "execute_result"
    }
   ],
   "source": [
    "with DBcm.UseDatabase(creds) as db:    \n",
    "    SQL = \"\"\"\n",
    "        select count(*) from games \n",
    "        where gamertag = \"Xx_TTV_MadJack69_xX\" and outcome = \"Win\"\n",
    "    \"\"\"\n",
    "    db.execute(SQL)  \n",
    "    results = db.fetchall()  \n",
    "results"
   ]
  },
  {
   "cell_type": "code",
   "execution_count": 16,
   "metadata": {},
   "outputs": [
    {
     "data": {
      "text/plain": [
       "(0,)"
      ]
     },
     "execution_count": 16,
     "metadata": {},
     "output_type": "execute_result"
    }
   ],
   "source": [
    "with DBcm.UseDatabase(creds) as db:    \n",
    "    SQL = \"\"\"\n",
    "        select count(*) from games \n",
    "        where gamertag = \"Xx_TTV_MadJack69_xX\" and outcome = \"Win\"\n",
    "    \"\"\"\n",
    "    db.execute(SQL)  \n",
    "    results = db.fetchone()  \n",
    "results"
   ]
  },
  {
   "cell_type": "code",
   "execution_count": 17,
   "metadata": {},
   "outputs": [
    {
     "data": {
      "text/plain": [
       "0"
      ]
     },
     "execution_count": 17,
     "metadata": {},
     "output_type": "execute_result"
    }
   ],
   "source": [
    "results[0]"
   ]
  },
  {
   "cell_type": "code",
   "execution_count": 18,
   "metadata": {},
   "outputs": [
    {
     "name": "stdout",
     "output_type": "stream",
     "text": [
      "Attemptd to preform ZeroDivision\n"
     ]
    }
   ],
   "source": [
    "with DBcm.UseDatabase(creds) as db:    \n",
    "    SQL = \"\"\"\n",
    "        select count(*) from games \n",
    "        where gamertag = \"Xx_TTV_MadJack69_xX\" and outcome = \"Win\"\n",
    "    \"\"\"\n",
    "    db.execute(SQL)  \n",
    "    results = db.fetchone()  \n",
    "    wins = results[0]\n",
    "    SQL = \"\"\"\n",
    "        select count(*) from games \n",
    "        where gamertag = \"Xx_TTV_MadJack69_xX\" and outcome = \"Loss\"\n",
    "    \"\"\"\n",
    "    db.execute(SQL)  \n",
    "    results = db.fetchone() \n",
    "    losses = results[0]\n",
    "\n",
    "if wins + losses != 0:\n",
    "    print(\"Wins:\", wins)\n",
    "    print(\"Losses:\", losses)\n",
    "    print(\"Win percentage:\", wins / (wins+losses))\n",
    "else:\n",
    "    print(\"Attemptd to preform ZeroDivision\")"
   ]
  },
  {
   "cell_type": "code",
   "execution_count": 19,
   "metadata": {},
   "outputs": [],
   "source": [
    "import random"
   ]
  },
  {
   "cell_type": "code",
   "execution_count": 20,
   "metadata": {},
   "outputs": [
    {
     "ename": "SQLError",
     "evalue": "1054 (42S22): Unknown column 'winstreak' in 'field list'",
     "output_type": "error",
     "traceback": [
      "\u001b[1;31m---------------------------------------------------------------------------\u001b[0m",
      "\u001b[1;31mProgrammingError\u001b[0m                          Traceback (most recent call last)",
      "Cell \u001b[1;32mIn[20], line 8\u001b[0m\n\u001b[0;32m      7\u001b[0m \u001b[38;5;28;01mwith\u001b[39;00m DBcm\u001b[38;5;241m.\u001b[39mUseDatabase(creds) \u001b[38;5;28;01mas\u001b[39;00m db:\n\u001b[1;32m----> 8\u001b[0m     \u001b[43mdb\u001b[49m\u001b[38;5;241;43m.\u001b[39;49m\u001b[43mexecute\u001b[49m\u001b[43m(\u001b[49m\u001b[43mSQL\u001b[49m\u001b[43m)\u001b[49m\n",
      "File \u001b[1;32m~\\AppData\\Local\\Packages\\PythonSoftwareFoundation.Python.3.11_qbz5n2kfra8p0\\LocalCache\\local-packages\\Python311\\site-packages\\mysql\\connector\\cursor.py:617\u001b[0m, in \u001b[0;36mMySQLCursor.execute\u001b[1;34m(self, operation, params, multi)\u001b[0m\n\u001b[0;32m    616\u001b[0m \u001b[38;5;28;01mtry\u001b[39;00m:\n\u001b[1;32m--> 617\u001b[0m     \u001b[38;5;28mself\u001b[39m\u001b[38;5;241m.\u001b[39m_handle_result(\u001b[38;5;28;43mself\u001b[39;49m\u001b[38;5;241;43m.\u001b[39;49m\u001b[43m_connection\u001b[49m\u001b[38;5;241;43m.\u001b[39;49m\u001b[43mcmd_query\u001b[49m\u001b[43m(\u001b[49m\u001b[43mstmt\u001b[49m\u001b[43m)\u001b[49m)\n\u001b[0;32m    618\u001b[0m \u001b[38;5;28;01mexcept\u001b[39;00m InterfaceError \u001b[38;5;28;01mas\u001b[39;00m err:\n",
      "File \u001b[1;32m~\\AppData\\Local\\Packages\\PythonSoftwareFoundation.Python.3.11_qbz5n2kfra8p0\\LocalCache\\local-packages\\Python311\\site-packages\\mysql\\connector\\opentelemetry\\context_propagation.py:77\u001b[0m, in \u001b[0;36mwith_context_propagation.<locals>.wrapper\u001b[1;34m(cnx, *args, **kwargs)\u001b[0m\n\u001b[0;32m     76\u001b[0m \u001b[38;5;28;01mif\u001b[39;00m \u001b[38;5;129;01mnot\u001b[39;00m OTEL_ENABLED \u001b[38;5;129;01mor\u001b[39;00m \u001b[38;5;129;01mnot\u001b[39;00m cnx\u001b[38;5;241m.\u001b[39motel_context_propagation:\n\u001b[1;32m---> 77\u001b[0m     \u001b[38;5;28;01mreturn\u001b[39;00m \u001b[43mmethod\u001b[49m\u001b[43m(\u001b[49m\u001b[43mcnx\u001b[49m\u001b[43m,\u001b[49m\u001b[43m \u001b[49m\u001b[38;5;241;43m*\u001b[39;49m\u001b[43margs\u001b[49m\u001b[43m,\u001b[49m\u001b[43m \u001b[49m\u001b[38;5;241;43m*\u001b[39;49m\u001b[38;5;241;43m*\u001b[39;49m\u001b[43mkwargs\u001b[49m\u001b[43m)\u001b[49m\n\u001b[0;32m     79\u001b[0m current_span \u001b[38;5;241m=\u001b[39m trace\u001b[38;5;241m.\u001b[39mget_current_span()\n",
      "File \u001b[1;32m~\\AppData\\Local\\Packages\\PythonSoftwareFoundation.Python.3.11_qbz5n2kfra8p0\\LocalCache\\local-packages\\Python311\\site-packages\\mysql\\connector\\connection.py:843\u001b[0m, in \u001b[0;36mMySQLConnection.cmd_query\u001b[1;34m(self, query, raw, buffered, raw_as_string)\u001b[0m\n\u001b[0;32m    842\u001b[0m \u001b[38;5;28;01mtry\u001b[39;00m:\n\u001b[1;32m--> 843\u001b[0m     result \u001b[38;5;241m=\u001b[39m \u001b[38;5;28;43mself\u001b[39;49m\u001b[38;5;241;43m.\u001b[39;49m\u001b[43m_handle_result\u001b[49m\u001b[43m(\u001b[49m\u001b[38;5;28;43mself\u001b[39;49m\u001b[38;5;241;43m.\u001b[39;49m\u001b[43m_send_cmd\u001b[49m\u001b[43m(\u001b[49m\u001b[43mServerCmd\u001b[49m\u001b[38;5;241;43m.\u001b[39;49m\u001b[43mQUERY\u001b[49m\u001b[43m,\u001b[49m\u001b[43m \u001b[49m\u001b[43mquery\u001b[49m\u001b[43m)\u001b[49m\u001b[43m)\u001b[49m\n\u001b[0;32m    844\u001b[0m \u001b[38;5;28;01mexcept\u001b[39;00m ProgrammingError \u001b[38;5;28;01mas\u001b[39;00m err:\n",
      "File \u001b[1;32m~\\AppData\\Local\\Packages\\PythonSoftwareFoundation.Python.3.11_qbz5n2kfra8p0\\LocalCache\\local-packages\\Python311\\site-packages\\mysql\\connector\\connection.py:620\u001b[0m, in \u001b[0;36mMySQLConnection._handle_result\u001b[1;34m(self, packet)\u001b[0m\n\u001b[0;32m    619\u001b[0m \u001b[38;5;28;01mif\u001b[39;00m packet[\u001b[38;5;241m4\u001b[39m] \u001b[38;5;241m==\u001b[39m \u001b[38;5;241m255\u001b[39m:\n\u001b[1;32m--> 620\u001b[0m     \u001b[38;5;28;01mraise\u001b[39;00m get_exception(packet)\n\u001b[0;32m    622\u001b[0m \u001b[38;5;66;03m# We have a text result set\u001b[39;00m\n",
      "\u001b[1;31mProgrammingError\u001b[0m: 1054 (42S22): Unknown column 'winstreak' in 'field list'",
      "\nDuring handling of the above exception, another exception occurred:\n",
      "\u001b[1;31mSQLError\u001b[0m                                  Traceback (most recent call last)",
      "Cell \u001b[1;32mIn[20], line 7\u001b[0m\n\u001b[0;32m      1\u001b[0m SQL \u001b[38;5;241m=\u001b[39m \u001b[38;5;124m\"\"\"\u001b[39m\n\u001b[0;32m      2\u001b[0m \u001b[38;5;124m    insert into games \u001b[39m\n\u001b[0;32m      3\u001b[0m \u001b[38;5;124m    ( gamertag, outcome, attempts, winstreak )\u001b[39m\n\u001b[0;32m      4\u001b[0m \u001b[38;5;124m    values     \u001b[39m\n\u001b[0;32m      5\u001b[0m \u001b[38;5;124m    (\u001b[39m\u001b[38;5;124m\"\u001b[39m\u001b[38;5;124mXx_TTV_MadJack69_xX\u001b[39m\u001b[38;5;124m\"\u001b[39m\u001b[38;5;124m, \u001b[39m\u001b[38;5;124m\"\u001b[39m\u001b[38;5;124mLoss\u001b[39m\u001b[38;5;124m\"\u001b[39m\u001b[38;5;124m, 1, 0)\u001b[39m\n\u001b[0;32m      6\u001b[0m \u001b[38;5;124m\"\"\"\u001b[39m\n\u001b[1;32m----> 7\u001b[0m \u001b[38;5;28;43;01mwith\u001b[39;49;00m\u001b[43m \u001b[49m\u001b[43mDBcm\u001b[49m\u001b[38;5;241;43m.\u001b[39;49m\u001b[43mUseDatabase\u001b[49m\u001b[43m(\u001b[49m\u001b[43mcreds\u001b[49m\u001b[43m)\u001b[49m\u001b[43m \u001b[49m\u001b[38;5;28;43;01mas\u001b[39;49;00m\u001b[43m \u001b[49m\u001b[43mdb\u001b[49m\u001b[43m:\u001b[49m\n\u001b[0;32m      8\u001b[0m \u001b[43m    \u001b[49m\u001b[43mdb\u001b[49m\u001b[38;5;241;43m.\u001b[39;49m\u001b[43mexecute\u001b[49m\u001b[43m(\u001b[49m\u001b[43mSQL\u001b[49m\u001b[43m)\u001b[49m\n",
      "File \u001b[1;32m~\\AppData\\Local\\Packages\\PythonSoftwareFoundation.Python.3.11_qbz5n2kfra8p0\\LocalCache\\local-packages\\Python311\\site-packages\\DBcm.py:116\u001b[0m, in \u001b[0;36mUseDatabase.__exit__\u001b[1;34m(self, exc_type, exc_value, exc_traceback)\u001b[0m\n\u001b[0;32m    114\u001b[0m \u001b[38;5;28mself\u001b[39m\u001b[38;5;241m.\u001b[39mconn\u001b[38;5;241m.\u001b[39mclose()\n\u001b[0;32m    115\u001b[0m \u001b[38;5;28;01mif\u001b[39;00m exc_type \u001b[38;5;129;01mis\u001b[39;00m mysql\u001b[38;5;241m.\u001b[39mconnector\u001b[38;5;241m.\u001b[39mProgrammingError:\n\u001b[1;32m--> 116\u001b[0m     \u001b[38;5;28;01mraise\u001b[39;00m SQLError(exc_value)\n\u001b[0;32m    117\u001b[0m \u001b[38;5;28;01melif\u001b[39;00m exc_type:\n\u001b[0;32m    118\u001b[0m     \u001b[38;5;28;01mraise\u001b[39;00m exc_type(exc_value)\n",
      "\u001b[1;31mSQLError\u001b[0m: 1054 (42S22): Unknown column 'winstreak' in 'field list'"
     ]
    }
   ],
   "source": [
    "SQL = \"\"\"\n",
    "    insert into games \n",
    "    ( gamertag, outcome, attempts, winstreak )\n",
    "    values     \n",
    "    (\"Xx_TTV_MadJack69_xX\", \"Loss\", 1, 0)\n",
    "\"\"\"\n",
    "with DBcm.UseDatabase(creds) as db:\n",
    "    db.execute(SQL)\n"
   ]
  },
  {
   "cell_type": "code",
   "execution_count": null,
   "metadata": {},
   "outputs": [
    {
     "data": {
      "text/plain": [
       "'Loss'"
      ]
     },
     "execution_count": 77,
     "metadata": {},
     "output_type": "execute_result"
    }
   ],
   "source": [
    "outcome = random.choice([\"Win\", \"Loss\"])\n",
    "outcome"
   ]
  },
  {
   "cell_type": "code",
   "execution_count": null,
   "metadata": {},
   "outputs": [],
   "source": [
    "with DBcm.UseDatabase(creds) as db:\n",
    "    SQL = \"\"\"\n",
    "        select gamertag from players\n",
    "    \"\"\"\n",
    "    db.execute(SQL)\n",
    "    tags = db.fetchall()"
   ]
  },
  {
   "cell_type": "code",
   "execution_count": null,
   "metadata": {},
   "outputs": [
    {
     "name": "stdout",
     "output_type": "stream",
     "text": [
      "[('JDawg',), ('idk',), ('alwyn',), ('FrogGranna',), ('PDawg',), ('frodo',), ('The Legend 27',), ('xxx_CDawg_xxx',), ('Xx_TTV_MadJack69_xX',), ('Ruark',), ('kio',), ('Mia',)]\n"
     ]
    }
   ],
   "source": [
    "print(tags)"
   ]
  },
  {
   "cell_type": "code",
   "execution_count": null,
   "metadata": {},
   "outputs": [
    {
     "name": "stdout",
     "output_type": "stream",
     "text": [
      "['JDawg', 'idk', 'alwyn', 'FrogGranna', 'PDawg', 'frodo', 'The Legend 27', 'xxx_CDawg_xxx', 'Xx_TTV_MadJack69_xX', 'Ruark', 'kio', 'Mia']\n"
     ]
    }
   ],
   "source": [
    "tags = [ row[0] for row in tags ]\n",
    "print(tags)"
   ]
  },
  {
   "cell_type": "code",
   "execution_count": null,
   "metadata": {},
   "outputs": [
    {
     "data": {
      "text/plain": [
       "'kio'"
      ]
     },
     "execution_count": 81,
     "metadata": {},
     "output_type": "execute_result"
    }
   ],
   "source": [
    "who = random.choice(tags)\n",
    "who"
   ]
  },
  {
   "cell_type": "code",
   "execution_count": null,
   "metadata": {},
   "outputs": [],
   "source": [
    "def random_gamer():\n",
    "    with DBcm.UseDatabase(creds) as db:\n",
    "        SQL = \"\"\"\n",
    "            select gamertag from players\n",
    "        \"\"\"\n",
    "        db.execute(SQL)\n",
    "        tags = db.fetchall()\n",
    "        tags = [ row[0] for row in tags ]\n",
    "        who = random.choice(tags)\n",
    "    return who"
   ]
  },
  {
   "cell_type": "code",
   "execution_count": null,
   "metadata": {},
   "outputs": [
    {
     "data": {
      "text/plain": [
       "('FrogGranna', 'Loss')"
      ]
     },
     "execution_count": 83,
     "metadata": {},
     "output_type": "execute_result"
    }
   ],
   "source": [
    "gamer = random_gamer()\n",
    "outcome = random.choice([\"Win\", \"Loss\"])\n",
    "gamer, outcome"
   ]
  },
  {
   "cell_type": "code",
   "execution_count": null,
   "metadata": {},
   "outputs": [],
   "source": [
    "for _ in range(500):\n",
    "    SQL = \"\"\"\n",
    "        insert into games\n",
    "        ( gamertag, outcome, attempts, winstreak )\n",
    "        values     \n",
    "        (%s, %s, 0, 0)\n",
    "    \"\"\"\n",
    "    gamer = random_gamer()\n",
    "    outcome = random.choice([\"Win\", \"Loss\"])\n",
    "    with DBcm.UseDatabase(creds) as db:\n",
    "        db.execute(SQL, (gamer, outcome, ))   # tuple.\n",
    "        SQL = \"\"\"select * from games\"\"\"\n",
    "        db.execute(SQL)\n",
    "        results = db.fetchall()\n",
    "        ##print(results[-3:])"
   ]
  },
  {
   "cell_type": "code",
   "execution_count": null,
   "metadata": {},
   "outputs": [
    {
     "data": {
      "text/plain": [
       "506"
      ]
     },
     "execution_count": 85,
     "metadata": {},
     "output_type": "execute_result"
    }
   ],
   "source": [
    "len(results)"
   ]
  },
  {
   "cell_type": "code",
   "execution_count": null,
   "metadata": {},
   "outputs": [
    {
     "data": {
      "text/plain": [
       "[('xxx_CDawg_xxx', 'Win', '0', '0'),\n",
       " ('FrogGranna', 'Win', '0', '0'),\n",
       " ('alwyn', 'Loss', '0', '0'),\n",
       " ('Xx_TTV_MadJack69_xX', 'Win', '0', '0'),\n",
       " ('The Legend 27', 'Loss', '0', '0'),\n",
       " ('idk', 'Loss', '0', '0'),\n",
       " ('PDawg', 'Win', '0', '0'),\n",
       " ('alwyn', 'Win', '0', '0'),\n",
       " ('The Legend 27', 'Loss', '0', '0'),\n",
       " ('PDawg', 'Win', '0', '0'),\n",
       " ('idk', 'Win', '0', '0'),\n",
       " ('PDawg', 'Win', '0', '0'),\n",
       " ('Ruark', 'Loss', '0', '0'),\n",
       " ('Ruark', 'Win', '0', '0'),\n",
       " ('Ruark', 'Loss', '0', '0'),\n",
       " ('xxx_CDawg_xxx', 'Win', '0', '0'),\n",
       " ('Ruark', 'Win', '0', '0'),\n",
       " ('kio', 'Win', '0', '0'),\n",
       " ('The Legend 27', 'Win', '0', '0'),\n",
       " ('kio', 'Win', '0', '0'),\n",
       " ('frodo', 'Loss', '0', '0'),\n",
       " ('idk', 'Loss', '0', '0'),\n",
       " ('Xx_TTV_MadJack69_xX', 'Loss', '0', '0'),\n",
       " ('frodo', 'Loss', '0', '0'),\n",
       " ('JDawg', 'Win', '0', '0')]"
      ]
     },
     "execution_count": 86,
     "metadata": {},
     "output_type": "execute_result"
    }
   ],
   "source": [
    "results[25:50]"
   ]
  },
  {
   "cell_type": "code",
   "execution_count": null,
   "metadata": {},
   "outputs": [
    {
     "name": "stdout",
     "output_type": "stream",
     "text": [
      "12\n"
     ]
    }
   ],
   "source": [
    "with DBcm.UseDatabase(creds) as db:\n",
    "    SQL = \"\"\"select distinct gamertag from games\"\"\"\n",
    "    db.execute(SQL)\n",
    "    results = db.fetchall()\n",
    "    print(len(results))"
   ]
  },
  {
   "cell_type": "code",
   "execution_count": null,
   "metadata": {},
   "outputs": [
    {
     "name": "stdout",
     "output_type": "stream",
     "text": [
      "JDawg win percentage: 0.5116279069767442\n",
      "------------------------------------------------------------\n",
      "idk win percentage: 0.3333333333333333\n",
      "------------------------------------------------------------\n",
      "alwyn win percentage: 0.5\n",
      "------------------------------------------------------------\n",
      "FrogGranna win percentage: 0.5106382978723404\n",
      "------------------------------------------------------------\n",
      "PDawg win percentage: 0.6363636363636364\n",
      "------------------------------------------------------------\n",
      "frodo win percentage: 0.35\n",
      "------------------------------------------------------------\n",
      "The Legend 27 win percentage: 0.46153846153846156\n",
      "------------------------------------------------------------\n",
      "xxx_CDawg_xxx win percentage: 0.717948717948718\n",
      "------------------------------------------------------------\n",
      "Xx_TTV_MadJack69_xX win percentage: 0.48148148148148145\n",
      "------------------------------------------------------------\n",
      "Ruark win percentage: 0.525\n",
      "------------------------------------------------------------\n",
      "kio win percentage: 0.5348837209302325\n",
      "------------------------------------------------------------\n",
      "Mia win percentage: 0.5\n",
      "------------------------------------------------------------\n"
     ]
    }
   ],
   "source": [
    "for tag in tags:\n",
    "    with DBcm.UseDatabase(creds) as db:    \n",
    "        SQL = \"\"\"\n",
    "            select count(*) from games \n",
    "            where gamertag = %s and outcome = \"Win\"\n",
    "        \"\"\"\n",
    "        db.execute(SQL, (tag, ))   # tuple.\n",
    "        results = db.fetchone()  \n",
    "        wins = results[0]\n",
    "        SQL = \"\"\"\n",
    "            select count(*) from games \n",
    "            where gamertag = %s and outcome = \"Loss\"\n",
    "        \"\"\"\n",
    "        db.execute(SQL, (tag, ))   # tuple.\n",
    "        results = db.fetchone() \n",
    "        losses = results[0]\n",
    "\n",
    "    ## print(\"Wins:\", wins)\n",
    "    ## print(\"Losses:\", losses)\n",
    "    print(tag, \"win percentage:\", wins / (wins+losses))\n",
    "    print(\"-\"*60)"
   ]
  },
  {
   "cell_type": "code",
   "execution_count": null,
   "metadata": {},
   "outputs": [
    {
     "data": {
      "text/plain": [
       "[('xxx_CDawg_xxx',),\n",
       " ('PDawg',),\n",
       " ('Ruark',),\n",
       " ('frodo',),\n",
       " ('Mia',),\n",
       " ('idk',),\n",
       " ('JDawg',),\n",
       " ('FrogGranna',),\n",
       " ('idk',),\n",
       " ('idk',),\n",
       " ('idk',),\n",
       " ('The Legend 27',),\n",
       " ('Xx_TTV_MadJack69_xX',),\n",
       " ('alwyn',),\n",
       " ('The Legend 27',),\n",
       " ('frodo',),\n",
       " ('The Legend 27',),\n",
       " ('The Legend 27',),\n",
       " ('FrogGranna',),\n",
       " ('The Legend 27',)]"
      ]
     },
     "execution_count": 89,
     "metadata": {},
     "output_type": "execute_result"
    }
   ],
   "source": [
    "with DBcm.UseDatabase(creds) as db:\n",
    "    SQL = \"\"\"select gamertag from games\"\"\"\n",
    "    db.execute(SQL)\n",
    "    results = db.fetchall()\n",
    "results[-20:]"
   ]
  },
  {
   "cell_type": "code",
   "execution_count": null,
   "metadata": {},
   "outputs": [
    {
     "data": {
      "text/plain": [
       "[('alwyn',),\n",
       " ('alwyn',),\n",
       " ('alwyn',),\n",
       " ('alwyn',),\n",
       " ('alwyn',),\n",
       " ('alwyn',),\n",
       " ('alwyn',),\n",
       " ('alwyn',),\n",
       " ('alwyn',),\n",
       " ('alwyn',),\n",
       " ('alwyn',),\n",
       " ('alwyn',),\n",
       " ('alwyn',),\n",
       " ('alwyn',),\n",
       " ('alwyn',),\n",
       " ('alwyn',),\n",
       " ('alwyn',),\n",
       " ('alwyn',),\n",
       " ('alwyn',),\n",
       " ('alwyn',)]"
      ]
     },
     "execution_count": 90,
     "metadata": {},
     "output_type": "execute_result"
    }
   ],
   "source": [
    "with DBcm.UseDatabase(creds) as db:\n",
    "    SQL = \"\"\"select gamertag from games\n",
    "             order by gamertag desc\"\"\"\n",
    "    db.execute(SQL)\n",
    "    results = db.fetchall()\n",
    "results[-20:]"
   ]
  },
  {
   "cell_type": "code",
   "execution_count": null,
   "metadata": {},
   "outputs": [],
   "source": [
    "scores = {}\n",
    "\n",
    "for tag in tags:\n",
    "    with DBcm.UseDatabase(creds) as db:    \n",
    "        SQL = \"\"\"\n",
    "            select count(*) from games \n",
    "            where gamertag = %s and outcome = \"Win\"\n",
    "        \"\"\"\n",
    "        db.execute(SQL, (tag, ))   # tuple.\n",
    "        results = db.fetchone()  \n",
    "        wins = results[0]\n",
    "        SQL = \"\"\"\n",
    "            select count(*) from games \n",
    "            where gamertag = %s and outcome = \"Loss\"\n",
    "        \"\"\"\n",
    "        db.execute(SQL, (tag, ))   # tuple.\n",
    "        results = db.fetchone() \n",
    "        losses = results[0]\n",
    "\n",
    "    scores[tag] = int((wins / (wins+losses)) * 100)"
   ]
  },
  {
   "cell_type": "code",
   "execution_count": null,
   "metadata": {},
   "outputs": [
    {
     "data": {
      "text/plain": [
       "{'JDawg': 51,\n",
       " 'idk': 33,\n",
       " 'alwyn': 50,\n",
       " 'FrogGranna': 51,\n",
       " 'PDawg': 63,\n",
       " 'frodo': 35,\n",
       " 'The Legend 27': 46,\n",
       " 'xxx_CDawg_xxx': 71,\n",
       " 'Xx_TTV_MadJack69_xX': 48,\n",
       " 'Ruark': 52,\n",
       " 'kio': 53,\n",
       " 'Mia': 50}"
      ]
     },
     "execution_count": 92,
     "metadata": {},
     "output_type": "execute_result"
    }
   ],
   "source": [
    "scores"
   ]
  },
  {
   "cell_type": "code",
   "execution_count": null,
   "metadata": {},
   "outputs": [
    {
     "name": "stdout",
     "output_type": "stream",
     "text": [
      "Requirement already satisfied: matplotlib in c:\\users\\fondo\\appdata\\local\\packages\\pythonsoftwarefoundation.python.3.11_qbz5n2kfra8p0\\localcache\\local-packages\\python311\\site-packages (3.8.2)\n",
      "Requirement already satisfied: contourpy>=1.0.1 in c:\\users\\fondo\\appdata\\local\\packages\\pythonsoftwarefoundation.python.3.11_qbz5n2kfra8p0\\localcache\\local-packages\\python311\\site-packages (from matplotlib) (1.2.0)\n",
      "Requirement already satisfied: cycler>=0.10 in c:\\users\\fondo\\appdata\\local\\packages\\pythonsoftwarefoundation.python.3.11_qbz5n2kfra8p0\\localcache\\local-packages\\python311\\site-packages (from matplotlib) (0.12.1)\n",
      "Requirement already satisfied: fonttools>=4.22.0 in c:\\users\\fondo\\appdata\\local\\packages\\pythonsoftwarefoundation.python.3.11_qbz5n2kfra8p0\\localcache\\local-packages\\python311\\site-packages (from matplotlib) (4.46.0)\n",
      "Requirement already satisfied: kiwisolver>=1.3.1 in c:\\users\\fondo\\appdata\\local\\packages\\pythonsoftwarefoundation.python.3.11_qbz5n2kfra8p0\\localcache\\local-packages\\python311\\site-packages (from matplotlib) (1.4.5)\n",
      "Requirement already satisfied: numpy<2,>=1.21 in c:\\users\\fondo\\appdata\\local\\packages\\pythonsoftwarefoundation.python.3.11_qbz5n2kfra8p0\\localcache\\local-packages\\python311\\site-packages (from matplotlib) (1.26.2)\n",
      "Requirement already satisfied: packaging>=20.0 in c:\\users\\fondo\\appdata\\local\\packages\\pythonsoftwarefoundation.python.3.11_qbz5n2kfra8p0\\localcache\\local-packages\\python311\\site-packages (from matplotlib) (23.2)\n",
      "Requirement already satisfied: pillow>=8 in c:\\users\\fondo\\appdata\\local\\packages\\pythonsoftwarefoundation.python.3.11_qbz5n2kfra8p0\\localcache\\local-packages\\python311\\site-packages (from matplotlib) (10.1.0)\n",
      "Requirement already satisfied: pyparsing>=2.3.1 in c:\\users\\fondo\\appdata\\local\\packages\\pythonsoftwarefoundation.python.3.11_qbz5n2kfra8p0\\localcache\\local-packages\\python311\\site-packages (from matplotlib) (3.1.1)\n",
      "Requirement already satisfied: python-dateutil>=2.7 in c:\\users\\fondo\\appdata\\local\\packages\\pythonsoftwarefoundation.python.3.11_qbz5n2kfra8p0\\localcache\\local-packages\\python311\\site-packages (from matplotlib) (2.8.2)\n",
      "Requirement already satisfied: six>=1.5 in c:\\users\\fondo\\appdata\\local\\packages\\pythonsoftwarefoundation.python.3.11_qbz5n2kfra8p0\\localcache\\local-packages\\python311\\site-packages (from python-dateutil>=2.7->matplotlib) (1.16.0)\n",
      "Note: you may need to restart the kernel to use updated packages.\n"
     ]
    },
    {
     "name": "stderr",
     "output_type": "stream",
     "text": [
      "\n",
      "[notice] A new release of pip is available: 23.2.1 -> 23.3.1\n",
      "[notice] To update, run: C:\\Users\\fondo\\AppData\\Local\\Microsoft\\WindowsApps\\PythonSoftwareFoundation.Python.3.11_qbz5n2kfra8p0\\python.exe -m pip install --upgrade pip\n"
     ]
    }
   ],
   "source": [
    "%pip install --upgrade matplotlib"
   ]
  },
  {
   "cell_type": "code",
   "execution_count": null,
   "metadata": {},
   "outputs": [
    {
     "data": {
      "image/png": "[encoded data removed]",
      "text/plain": [
       "<Figure size 640x480 with 1 Axes>"
      ]
     },
     "metadata": {},
     "output_type": "display_data"
    }
   ],
   "source": [
    "import matplotlib.pyplot as plt\n",
    "\n",
    "fig, ax = plt.subplots()\n",
    "\n",
    "y_labels = list(scores.keys())\n",
    "x_values = list(scores.values())\n",
    "\n",
    "\n",
    "bar_colors = ['tab:red', 'tab:blue', 'tab:red', 'tab:orange']\n",
    "\n",
    "ax.barh(y_labels, x_values, color=bar_colors)\n",
    "\n",
    "\n",
    "ax.set_xlabel('Blackjack Winrate')\n",
    "ax.set_title('How are all of our gamers doing?')\n",
    "\n",
    "plt.show()"
   ]
  },
  {
   "cell_type": "code",
   "execution_count": null,
   "metadata": {},
   "outputs": [],
   "source": [
    "scores = {}\n",
    "\n",
    "for tag in tags:\n",
    "    with DBcm.UseDatabase(creds) as db:    \n",
    "        SQL = \"\"\"\n",
    "            select count(*) from games \n",
    "            where gamertag = %s and outcome = \"Win\"\n",
    "        \"\"\"\n",
    "        db.execute(SQL, (tag, ))   # tuple.\n",
    "        results = db.fetchone()  \n",
    "        wins = results[0]\n",
    "        SQL = \"\"\"\n",
    "            select count(*) from games \n",
    "            where gamertag = %s and outcome = \"Loss\"\n",
    "        \"\"\"\n",
    "        db.execute(SQL, (tag, ))   # tuple.\n",
    "        results = db.fetchone() \n",
    "        losses = results[0]\n",
    "\n",
    "        SQL = \"\"\"\n",
    "            select realname from players \n",
    "            where gamertag = %s\n",
    "        \"\"\"\n",
    "        db.execute(SQL, (tag, ))   # tuple\n",
    "        results = db.fetchone() \n",
    "        realname = results[0]        \n",
    "\n",
    "    scores[ f\"{tag} ({realname})\" ] = int((wins / (wins+losses)) * 100)"
   ]
  },
  {
   "cell_type": "code",
   "execution_count": null,
   "metadata": {},
   "outputs": [
    {
     "data": {
      "text/plain": [
       "{'JDawg (Josh)': 51,\n",
       " 'idk (Shane)': 33,\n",
       " 'alwyn (Alwyn)': 50,\n",
       " 'FrogGranna (Darragh)': 51,\n",
       " 'PDawg (Pavol)': 63,\n",
       " 'frodo (Daniel)': 35,\n",
       " 'The Legend 27 (Richie)': 46,\n",
       " 'xxx_CDawg_xxx (Conor)': 71,\n",
       " 'Xx_TTV_MadJack69_xX (Jack)': 48,\n",
       " 'Ruark (Ruslan)': 52,\n",
       " 'kio (Killian)': 53,\n",
       " 'Mia (Adrian)': 50}"
      ]
     },
     "execution_count": 96,
     "metadata": {},
     "output_type": "execute_result"
    }
   ],
   "source": [
    "scores"
   ]
  },
  {
   "cell_type": "code",
   "execution_count": null,
   "metadata": {},
   "outputs": [
    {
     "data": {
      "image/png": "[encoded data removed]",
      "text/plain": [
       "<Figure size 640x480 with 1 Axes>"
      ]
     },
     "metadata": {},
     "output_type": "display_data"
    }
   ],
   "source": [
    "import matplotlib.pyplot as plt\n",
    "\n",
    "fig, ax = plt.subplots()\n",
    "\n",
    "y_labels = list(scores.keys())\n",
    "x_values = list(scores.values())\n",
    "\n",
    "\n",
    "bar_colors = ['tab:red', 'tab:blue', 'tab:red', 'tab:orange']\n",
    "\n",
    "ax.barh(y_labels, x_values, color=bar_colors)\n",
    "\n",
    "\n",
    "ax.set_xlabel('Blackjack Winrate')\n",
    "ax.set_title('How are all of our gamers doing?')\n",
    "\n",
    "plt.show()"
   ]
  },
  {
   "cell_type": "code",
   "execution_count": null,
   "metadata": {},
   "outputs": [
    {
     "data": {
      "text/plain": [
       "{'JDawg (Josh)': 51,\n",
       " 'idk (Shane)': 33,\n",
       " 'alwyn (Alwyn)': 50,\n",
       " 'FrogGranna (Darragh)': 51,\n",
       " 'PDawg (Pavol)': 63,\n",
       " 'frodo (Daniel)': 35,\n",
       " 'The Legend 27 (Richie)': 46,\n",
       " 'xxx_CDawg_xxx (Conor)': 71,\n",
       " 'Xx_TTV_MadJack69_xX (Jack)': 48,\n",
       " 'Ruark (Ruslan)': 52,\n",
       " 'kio (Killian)': 53,\n",
       " 'Mia (Adrian)': 50}"
      ]
     },
     "execution_count": 98,
     "metadata": {},
     "output_type": "execute_result"
    }
   ],
   "source": [
    "scores"
   ]
  },
  {
   "cell_type": "code",
   "execution_count": null,
   "metadata": {},
   "outputs": [
    {
     "name": "stdout",
     "output_type": "stream",
     "text": [
      "xxx_CDawg_xxx (Conor) 71\n",
      "PDawg (Pavol) 63\n",
      "kio (Killian) 53\n",
      "Ruark (Ruslan) 52\n",
      "JDawg (Josh) 51\n",
      "FrogGranna (Darragh) 51\n",
      "alwyn (Alwyn) 50\n",
      "Mia (Adrian) 50\n",
      "Xx_TTV_MadJack69_xX (Jack) 48\n",
      "The Legend 27 (Richie) 46\n",
      "frodo (Daniel) 35\n",
      "idk (Shane) 33\n"
     ]
    }
   ],
   "source": [
    "for player in sorted(scores, key=scores.get, reverse=True):\n",
    "    print(player, scores[player])"
   ]
  }
 ],
 "metadata": {
  "kernelspec": {
   "display_name": "Python 3",
   "language": "python",
   "name": "python3"
  },
  "language_info": {
   "codemirror_mode": {
    "name": "ipython",
    "version": 3
   },
   "file_extension": ".py",
   "mimetype": "text/x-python",
   "name": "python",
   "nbconvert_exporter": "python",
   "pygments_lexer": "ipython3",
   "version": "3.11.6"
  }
 },
 "nbformat": 4,
 "nbformat_minor": 2
}
