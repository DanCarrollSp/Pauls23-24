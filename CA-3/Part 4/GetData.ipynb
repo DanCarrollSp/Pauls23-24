{
 "cells": [
  {
   "cell_type": "code",
   "execution_count": 33,
   "metadata": {},
   "outputs": [
    {
     "name": "stdout",
     "output_type": "stream",
     "text": [
      "Requirement already satisfied: DBcm in c:\\users\\fondo\\appdata\\local\\packages\\pythonsoftwarefoundation.python.3.11_qbz5n2kfra8p0\\localcache\\local-packages\\python311\\site-packages (2.1)\n",
      "Requirement already satisfied: mysql-connector-python in c:\\users\\fondo\\appdata\\local\\packages\\pythonsoftwarefoundation.python.3.11_qbz5n2kfra8p0\\localcache\\local-packages\\python311\\site-packages (from DBcm) (8.2.0)\n",
      "Requirement already satisfied: protobuf<=4.21.12,>=4.21.1 in c:\\users\\fondo\\appdata\\local\\packages\\pythonsoftwarefoundation.python.3.11_qbz5n2kfra8p0\\localcache\\local-packages\\python311\\site-packages (from mysql-connector-python->DBcm) (4.21.12)\n",
      "Note: you may need to restart the kernel to use updated packages.\n"
     ]
    },
    {
     "name": "stderr",
     "output_type": "stream",
     "text": [
      "\n",
      "[notice] A new release of pip is available: 23.2.1 -> 23.3.1\n",
      "[notice] To update, run: C:\\Users\\fondo\\AppData\\Local\\Microsoft\\WindowsApps\\PythonSoftwareFoundation.Python.3.11_qbz5n2kfra8p0\\python.exe -m pip install --upgrade pip\n"
     ]
    }
   ],
   "source": [
    "%pip install --upgrade DBcm"
   ]
  },
  {
   "cell_type": "code",
   "execution_count": 34,
   "metadata": {},
   "outputs": [],
   "source": [
    "import DBcm"
   ]
  },
  {
   "cell_type": "code",
   "execution_count": 35,
   "metadata": {},
   "outputs": [],
   "source": [
    "creds = {\n",
    "    \"host\": \"localhost\",\n",
    "    \"database\": \"BlackjackDB\",\n",
    "    \"user\": \"root\",\n",
    "    \"password\": \"setu2023\",\n",
    "}"
   ]
  },
  {
   "cell_type": "code",
   "execution_count": 36,
   "metadata": {},
   "outputs": [],
   "source": [
    "def random_gamer():\n",
    "    with DBcm.UseDatabase(creds) as db:\n",
    "        SQL = \"\"\"\n",
    "            select gamertag from players\n",
    "        \"\"\"\n",
    "        db.execute(SQL)\n",
    "        tags = db.fetchall()\n",
    "        tags = [ row[0] for row in tags ]\n",
    "        who = random.choice(tags)\n",
    "    return who"
   ]
  },
  {
   "cell_type": "code",
   "execution_count": 37,
   "metadata": {},
   "outputs": [],
   "source": [
    "import random\n",
    "import DBcm\n",
    "\n",
    "def get_current_attempts(gamertag):\n",
    "    with DBcm.UseDatabase(creds) as db:\n",
    "        SQL = \"\"\"\n",
    "            SELECT COUNT(*) as attempts\n",
    "            FROM games\n",
    "            WHERE gamertag = %s\n",
    "        \"\"\"\n",
    "        db.execute(SQL, (gamertag,))\n",
    "        result = db.fetchone()\n",
    "        return result[0] if result else 0\n",
    "\n",
    "def get_current_wins(gamertag):\n",
    "    with DBcm.UseDatabase(creds) as db:\n",
    "        SQL = \"\"\"\n",
    "            SELECT COUNT(*) as wins\n",
    "            FROM games\n",
    "            WHERE gamertag = %s AND outcome = 'Win'\n",
    "        \"\"\"\n",
    "        db.execute(SQL, (gamertag,))\n",
    "        result = db.fetchone()\n",
    "        return result[0] if result else 0\n",
    "\n",
    "for _ in range(500):\n",
    "    SQL = \"\"\"\n",
    "        INSERT INTO games\n",
    "        (gamertag, outcome, attempts, wins)\n",
    "        VALUES (%s, %s, %s, %s)\n",
    "    \"\"\"\n",
    "    gamer = random_gamer()\n",
    "    outcome = random.choice([\"Win\", \"Loss\"])\n",
    "    attempts = get_current_attempts(gamer) + 1\n",
    "    wins = get_current_wins(gamer) + (outcome == \"Win\")\n",
    "\n",
    "    with DBcm.UseDatabase(creds) as db:\n",
    "            db.execute(SQL, (gamer, outcome, attempts, wins))\n"
   ]
  }
 ],
 "metadata": {
  "kernelspec": {
   "display_name": "Python 3",
   "language": "python",
   "name": "python3"
  },
  "language_info": {
   "codemirror_mode": {
    "name": "ipython",
    "version": 3
   },
   "file_extension": ".py",
   "mimetype": "text/x-python",
   "name": "python",
   "nbconvert_exporter": "python",
   "pygments_lexer": "ipython3",
   "version": "3.11.6"
  }
 },
 "nbformat": 4,
 "nbformat_minor": 2
}
